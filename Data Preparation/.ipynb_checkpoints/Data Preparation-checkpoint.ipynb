{
 "cells": [
  {
   "cell_type": "code",
   "execution_count": 5,
   "metadata": {
    "collapsed": true
   },
   "outputs": [],
   "source": [
    "import numpy as np\n",
    "np.random.seed(1) # for debuging"
   ]
  },
  {
   "cell_type": "code",
   "execution_count": 7,
   "metadata": {
    "collapsed": false
   },
   "outputs": [
    {
     "name": "stdout",
     "output_type": "stream",
     "text": [
      "[[ 1.62434536 -1.07296862  1.74481176 -0.24937038 -0.3224172  -1.09989127\n",
      "   0.04221375  1.14472371  0.90085595 -0.93576943 -0.69166075 -0.84520564\n",
      "  -1.11731035  0.74204416 -0.74715829 -0.63699565  0.12015895 -0.35224985\n",
      "  -0.20889423  0.93110208]\n",
      " [-0.61175641  0.86540763 -0.7612069   1.46210794 -0.38405435 -0.17242821\n",
      "   0.58281521  0.90159072 -0.68372786 -0.26788808 -0.39675353 -0.67124613\n",
      "   0.2344157  -0.19183555  1.6924546   0.19091548  0.61720311 -1.1425182\n",
      "   0.58662319  0.28558733]\n",
      " [-0.52817175 -2.3015387   0.3190391  -2.06014071  1.13376944 -0.87785842\n",
      "  -1.10061918  0.50249434 -0.12289023  0.53035547 -0.6871727  -0.0126646\n",
      "   1.65980218 -0.88762896  0.05080775  2.10025514  0.30017032 -0.34934272\n",
      "   0.83898341  0.88514116]]\n"
     ]
    }
   ],
   "source": [
    "# Step 1 - Create out dataset\n",
    "\n",
    "mu_vec1 = np.array([0,0,0]) # sample mean\n",
    "cov_mat = np.array([[1,0,0],[0,1,0],[0,0,1]]) # Sample convariance\n",
    "\n",
    "class1_sample = np.random.multivariate_normal(mu_vec1, cov_mat, 20).T\n",
    "print(class1_sample)\n",
    "# 3 * 20 marix, 3 columns with 20 rows"
   ]
  },
  {
   "cell_type": "code",
   "execution_count": 8,
   "metadata": {
    "collapsed": false
   },
   "outputs": [
    {
     "name": "stdout",
     "output_type": "stream",
     "text": [
      "[[ 0.24560206  0.70190716  2.13162939 -0.39649634  1.16003707 -1.02220122\n",
      "   1.23009474  0.79924193  1.19829972  1.37756379  2.19891788  0.36126959\n",
      "   0.65614632  1.69803203  1.40349164  1.16938243  0.73378149  1.31515939\n",
      "   1.35054598 -0.61577235]\n",
      " [ 2.25286816  1.48851815  2.51981682 -0.44411381  1.87616892  0.69379599\n",
      "   1.76201118  1.18656139  1.11900865  1.12182127  1.18515642  1.42349435\n",
      "   1.04359686  0.55287144  1.59357852  1.74055645  1.03261455  1.84616065\n",
      "  -0.31228341  2.12141771]\n",
      " [ 1.51292982  0.92442829  3.18557541  0.49553414  1.31563495  1.82797464\n",
      "   0.77767186  1.41005165  0.32933771  2.12948391  0.62471505  1.07734007\n",
      "   0.37999916  2.2245077  -0.09491185  0.0462994  -0.37311732  0.14048406\n",
      "   0.96130449  1.40890054]]\n"
     ]
    }
   ],
   "source": [
    "mu_vec2 = np.array([1,1,1]) # sample mean\n",
    "cov_mat2 = np.array([[1,0,0],[0,1,0],[0,0,1]]) # Sample convariance\n",
    "\n",
    "class2_sample = np.random.multivariate_normal(mu_vec2, cov_mat2, 20).T\n",
    "print(class2_sample)\n",
    "# 3 * 20 marix, 3 columns with 20 rows"
   ]
  },
  {
   "cell_type": "code",
   "execution_count": null,
   "metadata": {
    "collapsed": true
   },
   "outputs": [],
   "source": [
    "# Step 2 - Plot the data\n",
    "\n",
    "from matplotlib import pyplot as plt\n",
    "\n",
    "# figure width and height\n",
    "fig = plt.figure(figsize =(8,8))\n",
    "#3d subplot\n",
    "ax = fig.add_subplot(111,projection = '3d')\n",
    "#font size\n",
    "plt.rcParams = ['legend.fontsize'] = 10\n",
    "\n",
    "#plot samples\n",
    "ax.plot(class1_sa)"
   ]
  }
 ],
 "metadata": {
  "kernelspec": {
   "display_name": "Python 3",
   "language": "python",
   "name": "python3"
  },
  "language_info": {
   "codemirror_mode": {
    "name": "ipython",
    "version": 3
   },
   "file_extension": ".py",
   "mimetype": "text/x-python",
   "name": "python",
   "nbconvert_exporter": "python",
   "pygments_lexer": "ipython3",
   "version": "3.5.2"
  }
 },
 "nbformat": 4,
 "nbformat_minor": 2
}
